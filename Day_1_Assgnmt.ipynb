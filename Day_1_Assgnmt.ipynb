{
 "cells": [
  {
   "cell_type": "code",
   "execution_count": null,
   "metadata": {},
   "outputs": [],
   "source": []
  },
  {
   "cell_type": "code",
   "execution_count": null,
   "metadata": {},
   "outputs": [],
   "source": []
  },
  {
   "cell_type": "code",
   "execution_count": null,
   "metadata": {},
   "outputs": [],
   "source": []
  },
  {
   "cell_type": "code",
   "execution_count": 13,
   "metadata": {},
   "outputs": [
    {
     "name": "stdout",
     "output_type": "stream",
     "text": [
      "Enter first variable: 0\n",
      "Enter first variable: 3\n",
      "first variable is 0.0\n",
      "second variable is 3.0\n",
      "Addition of a & b : 3.0\n",
      "Subtraction of a & b: -3.0\n",
      "Multiplication of a & b: 0.0\n",
      "Division of a & b: 0.0\n"
     ]
    }
   ],
   "source": [
    "a = float(input(\"Enter first variable: \"))\n",
    "\n",
    "b = float(input(\"Enter first variable: \"))\n",
    "\n",
    "print(\"first variable is\", a)\n",
    "print(\"second variable is\", b)\n",
    "print(\"Addition of a & b :\", a + b)\n",
    "print(\"Subtraction of a & b:\", a-b)\n",
    "print(\"Multiplication of a & b:\", a*b)\n",
    "print(\"Division of a & b:\", a/b)"
   ]
  },
  {
   "cell_type": "code",
   "execution_count": null,
   "metadata": {},
   "outputs": [],
   "source": [
    "n = int(input(\"Enter first number: \"))\n",
    "m = int(input(\"Enter second number: \"))\n",
    "print(n**m)"
   ]
  }
 ],
 "metadata": {
  "kernelspec": {
   "display_name": "Python 3",
   "language": "python",
   "name": "python3"
  },
  "language_info": {
   "codemirror_mode": {
    "name": "ipython",
    "version": 3
   },
   "file_extension": ".py",
   "mimetype": "text/x-python",
   "name": "python",
   "nbconvert_exporter": "python",
   "pygments_lexer": "ipython3",
   "version": "3.8.5"
  }
 },
 "nbformat": 4,
 "nbformat_minor": 4
}
