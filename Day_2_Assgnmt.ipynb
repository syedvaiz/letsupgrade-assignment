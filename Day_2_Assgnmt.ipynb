{
 "cells": [
  {
   "cell_type": "code",
   "execution_count": null,
   "metadata": {},
   "outputs": [],
   "source": [
    "What is the time, space complexity of following code:\n",
    "int a = 0, b = 0;\n",
    "for (i = 0; i < N; i++) {\n",
    "a = a + 1;\n",
    "}\n",
    "for (j = 0; j < M; j++) {\n",
    "b = b + j;\n",
    "}\n",
    "\n",
    "\n",
    "answer: O(N^2)\n",
    "    because as the n increases the number of iterations increases\n",
    "    "
   ]
  },
  {
   "cell_type": "code",
   "execution_count": null,
   "metadata": {},
   "outputs": [],
   "source": [
    "What does it mean when we say that an algorithm X is asymptotically more efficient than Y?\n",
    "a)X will be a better choice for all inputs\n",
    "b)X will be a better choice for all inputs except possibly small inputs\n",
    "c)X will be a better choice for all inputs except possibly large inputs\n",
    "d)Y will be a better choice for small inputs\n",
    "\n",
    "answer: b)X will be a better choice for all inputs except possibly small inputs\n",
    "    Because in asymtotic analysis we consier about the growth of the algorithm in term of input size."
   ]
  },
  {
   "cell_type": "code",
   "execution_count": 9,
   "metadata": {},
   "outputs": [
    {
     "name": "stdout",
     "output_type": "stream",
     "text": [
      "Even numbers in the list1 :\n",
      "12 \n",
      "6 \n",
      "144 \n",
      "Even numbers in the list2 :\n",
      "2\n",
      "10\n"
     ]
    }
   ],
   "source": [
    "list1 = [12, 3, 55, 6, 144]\n",
    "\n",
    "list2 = [2, 10, 9, 37]\n",
    "\n",
    "print(\"Even numbers in the list1 :\")\n",
    "for i in list1:\n",
    "    if i%2 == 0:\n",
    "        print(i, end = \" \")\n",
    "        print( )\n",
    "\n",
    "print(\"Even numbers in the list2 :\")        \n",
    "for i in list2:\n",
    "    if i%2 == 0:\n",
    "        print(i)"
   ]
  },
  {
   "cell_type": "code",
   "execution_count": null,
   "metadata": {},
   "outputs": [],
   "source": []
  }
 ],
 "metadata": {
  "kernelspec": {
   "display_name": "Python 3",
   "language": "python",
   "name": "python3"
  },
  "language_info": {
   "codemirror_mode": {
    "name": "ipython",
    "version": 3
   },
   "file_extension": ".py",
   "mimetype": "text/x-python",
   "name": "python",
   "nbconvert_exporter": "python",
   "pygments_lexer": "ipython3",
   "version": "3.8.5"
  }
 },
 "nbformat": 4,
 "nbformat_minor": 4
}
